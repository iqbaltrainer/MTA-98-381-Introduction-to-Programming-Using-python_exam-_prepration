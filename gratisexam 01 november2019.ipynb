{
 "cells": [
  {
   "cell_type": "code",
   "execution_count": 4,
   "metadata": {},
   "outputs": [
    {
     "name": "stdout",
     "output_type": "stream",
     "text": [
      "<class 'str'>\n",
      "<class 'float'>\n",
      "<class 'float'>\n"
     ]
    }
   ],
   "source": [
    "#code segment 1 \n",
    "x1 = \"20\"\n",
    "y1 = 3 \n",
    "a =  x1 * y1\n",
    "\n",
    "#code segment 2\n",
    "x2 = 6\n",
    "y2 = 4 \n",
    "b =  x2 / y2\n",
    "\n",
    "#code segment 3 \n",
    "x3 = 2.5\n",
    "y3 = 1 \n",
    "c =  x3 / y3\n",
    "\n",
    "\n",
    "print(type(a))\n",
    "print(type(b))\n",
    "print(type(c))"
   ]
  },
  {
   "cell_type": "code",
   "execution_count": 9,
   "metadata": {},
   "outputs": [
    {
     "name": "stdout",
     "output_type": "stream",
     "text": [
      "How old were you on your start date ?45\n",
      "How old are you today ?50\n",
      "Congratulations on5years of service! \n"
     ]
    }
   ],
   "source": [
    "start = input(\"How old were you on your start date ?\")\n",
    "end = input(\"How old are you today ?\")\n",
    "print(\"Congratulations on\" + str(int(end)-int(start)) + \"years of service! \")"
   ]
  },
  {
   "cell_type": "code",
   "execution_count": 23,
   "metadata": {},
   "outputs": [
    {
     "name": "stdout",
     "output_type": "stream",
     "text": [
      "2\n",
      "3\n",
      "2.75\n"
     ]
    }
   ],
   "source": [
    "a = 11\n",
    "b = 4\n",
    "\n",
    "print(a // b)\n",
    "print(a % b)\n",
    "print(a / b)"
   ]
  },
  {
   "cell_type": "code",
   "execution_count": 26,
   "metadata": {},
   "outputs": [
    {
     "name": "stdout",
     "output_type": "stream",
     "text": [
      "15\n"
     ]
    }
   ],
   "source": [
    "#a = eval(input(\"Enter a number fo rthe equation :\"))\n",
    "b = (3*(1+2)**2 -(2**2)*3)\n",
    "print(b)"
   ]
  },
  {
   "cell_type": "code",
   "execution_count": 29,
   "metadata": {},
   "outputs": [
    {
     "name": "stdout",
     "output_type": "stream",
     "text": [
      "Enter the distance travel in feet 1320\n",
      "Enter the time elaspes in seconds 23\n",
      "The Average velocity is :  39.130434782608695 miles/hour\n"
     ]
    }
   ],
   "source": [
    "#speed Calculator\n",
    "distance = int(input(\"Enter the distance travel in feet \" ))\n",
    "distance_mils = distance /5280\n",
    "time = float(input(\"Enter the time elaspes in seconds \"))\n",
    "time_hours = time/3600\n",
    "velocity = distance_mils/time_hours\n",
    "print(\"The Average velocity is : \", velocity,\"miles/hour\")"
   ]
  },
  {
   "cell_type": "code",
   "execution_count": 39,
   "metadata": {},
   "outputs": [
    {
     "data": {
      "text/plain": [
       "(6.0, 16.0)"
      ]
     },
     "execution_count": 39,
     "metadata": {},
     "output_type": "execute_result"
    }
   ],
   "source": [
    "4 + 3 % 5\n",
    "\n",
    "43.55+2/2\n",
    "\n",
    "\n",
    "2+4.00, 2**4.0"
   ]
  },
  {
   "cell_type": "code",
   "execution_count": 46,
   "metadata": {},
   "outputs": [
    {
     "data": {
      "text/plain": [
       "512"
      ]
     },
     "execution_count": 46,
     "metadata": {},
     "output_type": "execute_result"
    }
   ],
   "source": [
    "2**9"
   ]
  },
  {
   "cell_type": "code",
   "execution_count": null,
   "metadata": {},
   "outputs": [],
   "source": []
  },
  {
   "cell_type": "code",
   "execution_count": null,
   "metadata": {},
   "outputs": [],
   "source": []
  }
 ],
 "metadata": {
  "kernelspec": {
   "display_name": "Python 3",
   "language": "python",
   "name": "python3"
  },
  "language_info": {
   "codemirror_mode": {
    "name": "ipython",
    "version": 3
   },
   "file_extension": ".py",
   "mimetype": "text/x-python",
   "name": "python",
   "nbconvert_exporter": "python",
   "pygments_lexer": "ipython3",
   "version": "3.7.3"
  }
 },
 "nbformat": 4,
 "nbformat_minor": 2
}
