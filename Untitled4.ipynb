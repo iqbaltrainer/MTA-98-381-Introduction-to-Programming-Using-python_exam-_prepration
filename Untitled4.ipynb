{
 "cells": [
  {
   "cell_type": "markdown",
   "metadata": {},
   "source": [
    "1) you create a function the power of a number by using python \n",
    "    you need to comments\n",
    "    line number are included for reference only\n",
    "    \n",
    "2) you write the following code Line numbers are included for reference only"
   ]
  },
  {
   "cell_type": "code",
   "execution_count": 18,
   "metadata": {},
   "outputs": [
    {
     "name": "stdout",
     "output_type": "stream",
     "text": [
      "35\n"
     ]
    }
   ],
   "source": [
    "def main(a,b,c,d):\n",
    "    value = a+b*c-d\n",
    "    return value\n",
    "print(main(10,9,3,2))"
   ]
  },
  {
   "cell_type": "code",
   "execution_count": 21,
   "metadata": {},
   "outputs": [
    {
     "name": "stdout",
     "output_type": "stream",
     "text": [
      "<function increment_score at 0x000001FC50895E58>\n"
     ]
    }
   ],
   "source": [
    "def increment_score(score,bonus,points = 1):\n",
    "    if bonus == True:\n",
    "        points = points * 2\n",
    "    score = score + points\n",
    "    return score\n",
    "points = 5\n",
    "score = 10 \n",
    "new_score = increment_score(score,True,points)\n",
    "print(increment_score)"
   ]
  },
  {
   "cell_type": "code",
   "execution_count": 22,
   "metadata": {},
   "outputs": [
    {
     "ename": "SyntaxError",
     "evalue": "invalid syntax (<ipython-input-22-a4c046bce219>, line 1)",
     "output_type": "error",
     "traceback": [
      "\u001b[1;36m  File \u001b[1;32m\"<ipython-input-22-a4c046bce219>\"\u001b[1;36m, line \u001b[1;32m1\u001b[0m\n\u001b[1;33m    4 Question # you evaluate the following code\u001b[0m\n\u001b[1;37m             ^\u001b[0m\n\u001b[1;31mSyntaxError\u001b[0m\u001b[1;31m:\u001b[0m invalid syntax\n"
     ]
    }
   ],
   "source": [
    "4 Question # you evaluate the following code \n",
    "numlist = [0,1,2,3,4]\n",
    "print(5 in numlist)"
   ]
  },
  {
   "cell_type": "code",
   "execution_count": 25,
   "metadata": {},
   "outputs": [
    {
     "name": "stdout",
     "output_type": "stream",
     "text": [
      "6 Question\n",
      "<class 'bool'>\n",
      "<class 'float'>\n",
      "<class 'int'>\n",
      "<class 'str'>\n"
     ]
    }
   ],
   "source": [
    "print(\"6 Question\") # you writeing a function that return the data type of the value that is passed in you write the following code \n",
    "def checkType(value):\n",
    "    dataType = type (value)\n",
    "    return dataType\n",
    "print(checkType(True))\n",
    "print(checkType(1.0))\n",
    "print(checkType(1))\n",
    "print(checkType(\"True\"))\n"
   ]
  },
  {
   "cell_type": "code",
   "execution_count": null,
   "metadata": {},
   "outputs": [],
   "source": []
  },
  {
   "cell_type": "code",
   "execution_count": 27,
   "metadata": {},
   "outputs": [
    {
     "name": "stdout",
     "output_type": "stream",
     "text": [
      "\n",
      "def main (a,b,c,d'):\n",
      "          value = a+b*c-d\n",
      "          return value\n"
     ]
    }
   ],
   "source": [
    "history | sed −e \"s/^[ 0 9]*//g\" | cut −d ' ' −f 1 | sort | uniq"
   ]
  },
  {
   "cell_type": "code",
   "execution_count": null,
   "metadata": {},
   "outputs": [],
   "source": []
  },
  {
   "cell_type": "code",
   "execution_count": null,
   "metadata": {},
   "outputs": [],
   "source": []
  },
  {
   "cell_type": "code",
   "execution_count": null,
   "metadata": {},
   "outputs": [],
   "source": []
  },
  {
   "cell_type": "code",
   "execution_count": null,
   "metadata": {},
   "outputs": [],
   "source": []
  }
 ],
 "metadata": {
  "kernelspec": {
   "display_name": "Python 3",
   "language": "python",
   "name": "python3"
  },
  "language_info": {
   "codemirror_mode": {
    "name": "ipython",
    "version": 3
   },
   "file_extension": ".py",
   "mimetype": "text/x-python",
   "name": "python",
   "nbconvert_exporter": "python",
   "pygments_lexer": "ipython3",
   "version": "3.7.4"
  }
 },
 "nbformat": 4,
 "nbformat_minor": 2
}
