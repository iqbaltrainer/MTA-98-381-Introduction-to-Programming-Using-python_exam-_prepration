{
 "cells": [
  {
   "cell_type": "code",
   "execution_count": 1,
   "metadata": {},
   "outputs": [
    {
     "name": "stdout",
     "output_type": "stream",
     "text": [
      "Concatenation combines strings like \"Some string, with some stuff.\" and \"Yet, another string here.\"\n"
     ]
    }
   ],
   "source": [
    "text = \"Some string, with some stuff.\"\n",
    "\n",
    "text2 = \"Yet, another string here.\"\n",
    "\n",
    "text3 = \"Concatenation combines strings like \\\"\" + text + \"\\\" and \\\"\" + text2  + \"\\\"\"\n",
    "print(text3)"
   ]
  },
  {
   "cell_type": "code",
   "execution_count": 2,
   "metadata": {},
   "outputs": [
    {
     "name": "stdout",
     "output_type": "stream",
     "text": [
      "Often\n",
      "You need a new line\n"
     ]
    }
   ],
   "source": [
    "text = 'Often\\nYou need a new line'\n",
    "print(text)"
   ]
  },
  {
   "cell_type": "code",
   "execution_count": 3,
   "metadata": {},
   "outputs": [
    {
     "name": "stdout",
     "output_type": "stream",
     "text": [
      "Often a \t tab is needed.\n"
     ]
    }
   ],
   "source": [
    "text = 'Often a \\t tab is needed.'\n",
    "print(text)"
   ]
  },
  {
   "cell_type": "code",
   "execution_count": 4,
   "metadata": {},
   "outputs": [
    {
     "name": "stdout",
     "output_type": "stream",
     "text": [
      "Sometimes it's your quote sometimes it isn't\n"
     ]
    }
   ],
   "source": [
    "text = 'Sometimes it\\'s your quote sometimes it isn\\'t'\n",
    "print(text)"
   ]
  },
  {
   "cell_type": "code",
   "execution_count": 5,
   "metadata": {},
   "outputs": [
    {
     "name": "stdout",
     "output_type": "stream",
     "text": [
      "Sometimes it's a \"Quote from someone else\"\n"
     ]
    }
   ],
   "source": [
    "text = \"Sometimes it\\'s a \\\"Quote from someone else\\\"\"\n",
    "print(text)"
   ]
  },
  {
   "cell_type": "code",
   "execution_count": 6,
   "metadata": {},
   "outputs": [
    {
     "name": "stdout",
     "output_type": "stream",
     "text": [
      "Sometimes you need to have a inline break that isn't a linebreak.\n"
     ]
    }
   ],
   "source": [
    "text = \"Sometimes you need to have \\\n",
    "a inline break that isn't a linebreak.\"\n",
    "print(text)"
   ]
  },
  {
   "cell_type": "code",
   "execution_count": 7,
   "metadata": {},
   "outputs": [
    {
     "name": "stdout",
     "output_type": "stream",
     "text": [
      "Some string, with some stuff.\n"
     ]
    },
    {
     "data": {
      "text/plain": [
       "'some string, with some stuff.'"
      ]
     },
     "execution_count": 7,
     "metadata": {},
     "output_type": "execute_result"
    }
   ],
   "source": [
    "text = \"Some string, with some stuff.\"\n",
    "text.lower()\n",
    "print(text)\n",
    "\"some string, with some stuff.\""
   ]
  },
  {
   "cell_type": "code",
   "execution_count": 9,
   "metadata": {},
   "outputs": [
    {
     "name": "stdout",
     "output_type": "stream",
     "text": [
      "Some string, with some stuff.\n"
     ]
    }
   ],
   "source": [
    "text = \"Some string, with some stuff.\"\n",
    "text.upper()\n",
    "print(text)"
   ]
  },
  {
   "cell_type": "code",
   "execution_count": 10,
   "metadata": {},
   "outputs": [
    {
     "name": "stdout",
     "output_type": "stream",
     "text": [
      "29\n"
     ]
    }
   ],
   "source": [
    "text_length = len(\"Some string, with some stuff.\")\n",
    "print(text_length)"
   ]
  },
  {
   "cell_type": "code",
   "execution_count": 11,
   "metadata": {},
   "outputs": [
    {
     "name": "stdout",
     "output_type": "stream",
     "text": [
      "17\n"
     ]
    }
   ],
   "source": [
    "text = \"Some other length\"\n",
    "text_length2 = len(text)\n",
    "print(text_length2)"
   ]
  },
  {
   "cell_type": "code",
   "execution_count": 14,
   "metadata": {},
   "outputs": [
    {
     "name": "stdout",
     "output_type": "stream",
     "text": [
      "This is variable based formatted string\n",
      "This is another variable based formatted string with multiple variables like some random replacement text.\n",
      "So, Jerry, the best part is formated strings you don't have to order it. \n",
      "And these keyword argument replacements, (Variable 1, Variable 2, Jerry) can be reused over and over.\n",
      "Seriously Jerry, this is some fun formatting.\n"
     ]
    }
   ],
   "source": [
    "text = \"This is {variable_a} formatted string\".format(variable_a=\"variable based\")\n",
    "print(text)\n",
    "\n",
    "text = \"This is another {variable_a} formatted string with \\\n",
    "multiple variables like {a} {b} {c}.\".format(\n",
    "    variable_a=\"variable based\", \n",
    "    a=\"some random\", b=\"replacement\", c=\"text\")\n",
    "print(text)\n",
    "\n",
    "text = \"\"\"So, {name}, the best part is formated strings you don't have to order it. \n",
    "And these keyword argument replacements, ({var_a}, {var_b}, {name}) can be reused over and over.\n",
    "Seriously {name}, this is some fun formatting.\"\"\".format(\n",
    "            name=\"Jerry\", \n",
    "            var_a=\"Variable 1\", \n",
    "            var_b=\"Variable 2\")\n",
    "print(text)"
   ]
  },
  {
   "cell_type": "code",
   "execution_count": null,
   "metadata": {},
   "outputs": [],
   "source": []
  },
  {
   "cell_type": "code",
   "execution_count": null,
   "metadata": {},
   "outputs": [],
   "source": []
  },
  {
   "cell_type": "code",
   "execution_count": 17,
   "metadata": {},
   "outputs": [
    {
     "data": {
      "text/plain": [
       "10000000000000000000000000000000000000000000000000000000000000000000000000000000000000000000000000000"
      ]
     },
     "execution_count": 17,
     "metadata": {},
     "output_type": "execute_result"
    }
   ],
   "source": [
    "g = 10 ** 100\n",
    "g"
   ]
  },
  {
   "cell_type": "code",
   "execution_count": 19,
   "metadata": {},
   "outputs": [
    {
     "name": "stdout",
     "output_type": "stream",
     "text": [
      "10,000,000,000,000,000,000,000,000,000,000,000,000,000,000,000,000,000,000,000,000,000,000,000,000,000,000,000,000,000,000,000,000,000\n"
     ]
    }
   ],
   "source": [
    "print('{:,}'.format(g))"
   ]
  },
  {
   "cell_type": "code",
   "execution_count": 20,
   "metadata": {},
   "outputs": [
    {
     "data": {
      "text/plain": [
       "False"
      ]
     },
     "execution_count": 20,
     "metadata": {},
     "output_type": "execute_result"
    }
   ],
   "source": [
    "g == g + 1"
   ]
  },
  {
   "cell_type": "code",
   "execution_count": 21,
   "metadata": {},
   "outputs": [
    {
     "data": {
      "text/plain": [
       "10000000000000000000000000000000000000000000000000000000000000000000000000000000000000000000000000001"
      ]
     },
     "execution_count": 21,
     "metadata": {},
     "output_type": "execute_result"
    }
   ],
   "source": [
    "g + 1"
   ]
  },
  {
   "cell_type": "code",
   "execution_count": null,
   "metadata": {},
   "outputs": [],
   "source": []
  },
  {
   "cell_type": "code",
   "execution_count": null,
   "metadata": {},
   "outputs": [],
   "source": []
  },
  {
   "cell_type": "code",
   "execution_count": null,
   "metadata": {},
   "outputs": [],
   "source": []
  },
  {
   "cell_type": "code",
   "execution_count": 3,
   "metadata": {},
   "outputs": [
    {
     "name": "stdout",
     "output_type": "stream",
     "text": [
      "Get back to work\n"
     ]
    }
   ],
   "source": [
    "tired = False\n",
    "if tired:\n",
    "    print(\"sleep\")\n",
    "else:\n",
    "    print(\"Get back to work\")"
   ]
  },
  {
   "cell_type": "code",
   "execution_count": null,
   "metadata": {},
   "outputs": [],
   "source": []
  },
  {
   "cell_type": "code",
   "execution_count": 7,
   "metadata": {},
   "outputs": [
    {
     "name": "stdout",
     "output_type": "stream",
     "text": [
      "Pray your salah\n"
     ]
    }
   ],
   "source": [
    "location = 'Bank'\n",
    "if location == 'Rsetaurant ':\n",
    "    print('Eat at Sharfoos Restorent ')\n",
    "elif location == \"Bank\":\n",
    "    print('Get some maney ')\n",
    "elif location == \"bakry\":\n",
    "    print(\"buy some aggs \")\n",
    "elif location == \"Masjid\":\n",
    "    print(\"Pray you salah\")\n",
    "else:\n",
    "    print(\"Go back home \")"
   ]
  },
  {
   "cell_type": "code",
   "execution_count": null,
   "metadata": {},
   "outputs": [],
   "source": []
  }
 ],
 "metadata": {
  "kernelspec": {
   "display_name": "Python 3",
   "language": "python",
   "name": "python3"
  },
  "language_info": {
   "codemirror_mode": {
    "name": "ipython",
    "version": 3
   },
   "file_extension": ".py",
   "mimetype": "text/x-python",
   "name": "python",
   "nbconvert_exporter": "python",
   "pygments_lexer": "ipython3",
   "version": "3.7.4"
  }
 },
 "nbformat": 4,
 "nbformat_minor": 2
}
