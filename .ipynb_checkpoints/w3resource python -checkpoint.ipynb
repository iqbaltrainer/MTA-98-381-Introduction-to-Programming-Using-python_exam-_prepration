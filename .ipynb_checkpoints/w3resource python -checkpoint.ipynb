{
 "cells": [
  {
   "cell_type": "code",
   "execution_count": 1,
   "metadata": {},
   "outputs": [
    {
     "name": "stdout",
     "output_type": "stream",
     "text": [
      "Python is very simple language\n"
     ]
    }
   ],
   "source": [
    "print(\"Python is very simple language\")"
   ]
  },
  {
   "cell_type": "code",
   "execution_count": 2,
   "metadata": {},
   "outputs": [
    {
     "name": "stdout",
     "output_type": "stream",
     "text": [
      "Hello\n"
     ]
    }
   ],
   "source": [
    "print('Hello')"
   ]
  },
  {
   "cell_type": "code",
   "execution_count": 3,
   "metadata": {},
   "outputs": [
    {
     "name": "stdout",
     "output_type": "stream",
     "text": [
      "Python is very popular language.\n",
      "It is also friendly language.\n"
     ]
    }
   ],
   "source": [
    "print(\"\"\"Python is very popular language.\n",
    "It is also friendly language.\"\"\")"
   ]
  },
  {
   "cell_type": "code",
   "execution_count": 4,
   "metadata": {},
   "outputs": [
    {
     "name": "stdout",
     "output_type": "stream",
     "text": [
      "Wel come\n"
     ]
    }
   ],
   "source": [
    "str1 = 'Wel'\n",
    "print(str1,'come') "
   ]
  },
  {
   "cell_type": "code",
   "execution_count": 5,
   "metadata": {},
   "outputs": [
    {
     "name": "stdout",
     "output_type": "stream",
     "text": [
      "Welcome Python\n"
     ]
    }
   ],
   "source": [
    "str1 = 'Welcome'\n",
    "str2 = 'Python'\n",
    "print(str1, str2)\n"
   ]
  },
  {
   "cell_type": "code",
   "execution_count": 6,
   "metadata": {},
   "outputs": [
    {
     "name": "stdout",
     "output_type": "stream",
     "text": [
      "WelcomePython:\n"
     ]
    }
   ],
   "source": [
    "str1 = 'Python'\n",
    "str2 = ':'\n",
    "print('Welcome' + str1 + str2)\n"
   ]
  },
  {
   "cell_type": "code",
   "execution_count": 10,
   "metadata": {},
   "outputs": [
    {
     "name": "stdout",
     "output_type": "stream",
     "text": [
      "Welcome Python\n"
     ]
    }
   ],
   "source": [
    "str1 = 'Python'\n",
    "print(\"Welcome %s\" % str1)\n"
   ]
  },
  {
   "cell_type": "code",
   "execution_count": 11,
   "metadata": {},
   "outputs": [
    {
     "name": "stdout",
     "output_type": "stream",
     "text": [
      "Actual Number = 15\n"
     ]
    }
   ],
   "source": [
    "print(\"Actual Number = %d\" %15)\n"
   ]
  },
  {
   "cell_type": "code",
   "execution_count": 12,
   "metadata": {},
   "outputs": [
    {
     "name": "stdout",
     "output_type": "stream",
     "text": [
      "Exponential equivalent of the number = 1.500000e+01\n"
     ]
    }
   ],
   "source": [
    "print(\"Exponential equivalent of the number = %e\" %15)\n"
   ]
  },
  {
   "cell_type": "code",
   "execution_count": 13,
   "metadata": {},
   "outputs": [
    {
     "name": "stdout",
     "output_type": "stream",
     "text": [
      "Sunday\n",
      "Monday\n",
      "Tuesday\n",
      "Wednesday\n",
      "Thursday\n",
      "Friday\n",
      "Saturday\n"
     ]
    }
   ],
   "source": [
    "print(\"Sunday\\nMonday\\nTuesday\\nWednesday\\nThursday\\nFriday\\nSaturday\")\n"
   ]
  },
  {
   "cell_type": "code",
   "execution_count": 14,
   "metadata": {},
   "outputs": [
    {
     "name": "stdout",
     "output_type": "stream",
     "text": [
      "-w3r-w3r-w3r-w3r-w3r\n"
     ]
    }
   ],
   "source": [
    "print('-w3r'*5)\n"
   ]
  },
  {
   "cell_type": "code",
   "execution_count": 15,
   "metadata": {},
   "outputs": [
    {
     "name": "stdout",
     "output_type": "stream",
     "text": [
      "\n",
      "Language:\n",
      "\t1 Python\n",
      "\t2 Java\n",
      "\t3 JavaScript\n",
      "\n"
     ]
    }
   ],
   "source": [
    "print(\"\"\"\n",
    "Language:\n",
    "\\t1 Python\n",
    "\\t2 Java\\n\\t3 JavaScript\n",
    "\"\"\")\n"
   ]
  },
  {
   "cell_type": "code",
   "execution_count": 16,
   "metadata": {},
   "outputs": [
    {
     "name": "stdout",
     "output_type": "stream",
     "text": [
      "5.123457\n"
     ]
    }
   ],
   "source": [
    "print(\"%f\" % 5.1234567890)\n"
   ]
  },
  {
   "cell_type": "code",
   "execution_count": 17,
   "metadata": {},
   "outputs": [
    {
     "name": "stdout",
     "output_type": "stream",
     "text": [
      " 5.123457\n",
      "-5.123457\n"
     ]
    }
   ],
   "source": [
    "print(\"% 9f\" % 5.1234567890)\n",
    "print(\"% 9f\" % -5.1234567890)\n"
   ]
  },
  {
   "cell_type": "code",
   "execution_count": 18,
   "metadata": {},
   "outputs": [
    {
     "name": "stdout",
     "output_type": "stream",
     "text": [
      "1\n",
      "1\n",
      "1\n"
     ]
    },
    {
     "data": {
      "text/plain": [
       "1"
      ]
     },
     "execution_count": 18,
     "metadata": {},
     "output_type": "execute_result"
    }
   ],
   "source": [
    ">>> x = y = z = 1\n",
    ">>> print(x)\n",
    "1\n",
    ">>> print(y)\n",
    "1\n",
    ">>> print(z)\n",
    "1\n",
    ">>> \n"
   ]
  },
  {
   "cell_type": "code",
   "execution_count": 20,
   "metadata": {},
   "outputs": [
    {
     "name": "stdout",
     "output_type": "stream",
     "text": [
      "1\n",
      "2\n",
      "abcd\n"
     ]
    }
   ],
   "source": [
    ">>> x,y,z = 1,2,\"abcd\"\n",
    ">>> print(x)\n",
    "1\n",
    ">>> print(y)\n",
    "2\n",
    ">>> print(z)"
   ]
  },
  {
   "cell_type": "code",
   "execution_count": 21,
   "metadata": {},
   "outputs": [
    {
     "name": "stdout",
     "output_type": "stream",
     "text": [
      "100\n",
      "Python\n"
     ]
    }
   ],
   "source": [
    "x = 100\n",
    "print(x)\n",
    "x = \"Python\"\n",
    "print(x)"
   ]
  },
  {
   "cell_type": "code",
   "execution_count": 34,
   "metadata": {},
   "outputs": [
    {
     "name": "stdout",
     "output_type": "stream",
     "text": [
      "0 1 2\n"
     ]
    }
   ],
   "source": [
    "z, y, x = 2, 1, 0\n",
    "x, z = z, y\n",
    "y = y - z\n",
    "x, y, z = y, z, x\n",
    "#z, y, x = x, z, y\n",
    "#y, z, x = x, y, z\n",
    "\n",
    "print(x, y, z)"
   ]
  },
  {
   "cell_type": "code",
   "execution_count": 39,
   "metadata": {},
   "outputs": [
    {
     "name": "stdout",
     "output_type": "stream",
     "text": [
      "3\n"
     ]
    }
   ],
   "source": [
    "a = 0\n",
    "b = a ** 0\n",
    "if b < a + 1:\n",
    "    c = 1\n",
    "elif b == 1:\n",
    "    c = 2 \n",
    "else: c = 3\n",
    "print(a + b + c)"
   ]
  },
  {
   "cell_type": "code",
   "execution_count": 41,
   "metadata": {},
   "outputs": [
    {
     "name": "stdout",
     "output_type": "stream",
     "text": [
      "1\n"
     ]
    }
   ],
   "source": [
    "b = a ** 0\n",
    "print(b)"
   ]
  },
  {
   "cell_type": "code",
   "execution_count": 42,
   "metadata": {},
   "outputs": [
    {
     "data": {
      "text/plain": [
       "1"
      ]
     },
     "execution_count": 42,
     "metadata": {},
     "output_type": "execute_result"
    }
   ],
   "source": [
    "a ** 0"
   ]
  },
  {
   "cell_type": "code",
   "execution_count": 44,
   "metadata": {},
   "outputs": [
    {
     "name": "stdout",
     "output_type": "stream",
     "text": [
      "10\n",
      "20\n",
      "20\n",
      "10\n"
     ]
    }
   ],
   "source": [
    "x = 10\n",
    "y = 20\n",
    "print(x)\n",
    "print(y)\n",
    "x, y = y, x\n",
    "print(x)\n",
    "print(y)"
   ]
  },
  {
   "cell_type": "code",
   "execution_count": 47,
   "metadata": {},
   "outputs": [
    {
     "name": "stdout",
     "output_type": "stream",
     "text": [
      "In side func1() var1 =  PHP\n",
      "In side func2() var1 =  Python\n"
     ]
    }
   ],
   "source": [
    "var1 = \"Python\"\n",
    "def func1():\n",
    "    global  var1 = \"PHP\"\n",
    "    print(\"In side func1() var1 = \",var1)\n",
    "\n",
    "def func2():\n",
    "    print(\"In side func2() var1 = \",var1)\n",
    "func1()\n",
    "func2()"
   ]
  },
  {
   "cell_type": "code",
   "execution_count": null,
   "metadata": {},
   "outputs": [],
   "source": []
  }
 ],
 "metadata": {
  "kernelspec": {
   "display_name": "Python 3",
   "language": "python",
   "name": "python3"
  },
  "language_info": {
   "codemirror_mode": {
    "name": "ipython",
    "version": 3
   },
   "file_extension": ".py",
   "mimetype": "text/x-python",
   "name": "python",
   "nbconvert_exporter": "python",
   "pygments_lexer": "ipython3",
   "version": "3.7.3"
  }
 },
 "nbformat": 4,
 "nbformat_minor": 2
}
